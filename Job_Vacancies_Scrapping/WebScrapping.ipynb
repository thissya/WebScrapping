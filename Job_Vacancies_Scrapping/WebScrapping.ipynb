{
  "nbformat": 4,
  "nbformat_minor": 0,
  "metadata": {
    "colab": {
      "provenance": [],
      "gpuType": "T4"
    },
    "kernelspec": {
      "name": "python3",
      "display_name": "Python 3"
    },
    "language_info": {
      "name": "python"
    },
    "accelerator": "GPU"
  },
  "cells": [
    {
      "cell_type": "code",
      "execution_count": 9,
      "metadata": {
        "id": "VbiLedUefG2V"
      },
      "outputs": [],
      "source": [
        "import requests\n",
        "from bs4 import BeautifulSoup\n",
        "import csv\n",
        "import pandas as pd\n",
        "import os"
      ]
    },
    {
      "cell_type": "code",
      "source": [
        "def scrape_jobs(url,excel_file='job_list.xlsx'):\n",
        "\n",
        "  html_text=requests.get(url).text\n",
        "  soup=BeautifulSoup(html_text,'lxml')\n",
        "  jobs = soup.find_all('li',class_='clearfix job-bx wht-shd-bx')\n",
        "\n",
        "  job_list=[]\n",
        "\n",
        "  for job in jobs:\n",
        "    company_name=job.find('h3',class_='joblist-comp-name').text.replace(' ','')\n",
        "    skills=job.find('span',class_='srp-skills').text.replace(' ','')\n",
        "    location_li = job.find('i', class_='material-icons', text='location_on').find_parent('li')\n",
        "    location = location_li.find('span').text.replace(' ','')    # Extract the location information from the <span> tag\n",
        "    more_info=job.header.h2.a['href']\n",
        "    job_role =job.header.h2.a.text.replace(' ','')\n",
        "\n",
        "    job_list.append({\n",
        "        \"Company Name \": company_name,\n",
        "        \"Job Role\":job_role,\n",
        "        \"Skills Required \": skills,\n",
        "        \"Location \": location,\n",
        "        \"More Info \": more_info\n",
        "    })\n",
        "\n",
        "  new_data_df=pd.DataFrame(job_list)\n",
        "\n",
        "  if os.path.exists(excel_file):\n",
        "    existing_data_df = pd.read_excel(excel_file)\n",
        "    combined_data_df = pd.concat([existing_data_df,new_data_df],ignore_index=True)\n",
        "  else:\n",
        "    combined_data_df = new_data_df\n",
        "  combined_data_df.to_excel(excel_file,index=False)\n",
        "  print(f\"Data Added to the {excel_file}\")"
      ],
      "metadata": {
        "id": "dUdKpkLrgrU-"
      },
      "execution_count": 10,
      "outputs": []
    },
    {
      "cell_type": "code",
      "source": [
        "url1 = \"https://www.timesjobs.com/candidate/job-search.html?searchType=personalizedSearch&from=submit&searchTextSrc=ft&searchTextText=&txtKeywords=java+and+python&txtLocation=\"\n",
        "scrape_jobs(url1)"
      ],
      "metadata": {
        "colab": {
          "base_uri": "https://localhost:8080/"
        },
        "id": "mxE3ufaFho-f",
        "outputId": "98e24697-35b6-4b5c-dc5f-0b04d2a1af32"
      },
      "execution_count": 11,
      "outputs": [
        {
          "output_type": "stream",
          "name": "stdout",
          "text": [
            "Data Added to the job_list.xlsx\n"
          ]
        },
        {
          "output_type": "stream",
          "name": "stderr",
          "text": [
            "<ipython-input-10-f1622221555c>:12: DeprecationWarning: The 'text' argument to find()-type methods is deprecated. Use 'string' instead.\n",
            "  location_li = job.find('i', class_='material-icons', text='location_on').find_parent('li')\n"
          ]
        }
      ]
    },
    {
      "cell_type": "code",
      "source": [
        "url2=\"https://www.timesjobs.com/candidate/job-search.html?from=submit&luceneResultSize=25&txtKeywords=java%20and%20python&postWeek=60&searchType=personalizedSearch&actualTxtKeywords=java%20and%20python&searchBy=0&rdoOperator=OR&pDate=I&sequence=3&startPage=1\"\n",
        "data = scrape_jobs(url2)"
      ],
      "metadata": {
        "colab": {
          "base_uri": "https://localhost:8080/"
        },
        "id": "nbE64a5uvItJ",
        "outputId": "fcefdf62-61d9-45c1-bc82-7511d5f739d3"
      },
      "execution_count": 12,
      "outputs": [
        {
          "output_type": "stream",
          "name": "stdout",
          "text": [
            "Data Added to the job_list.xlsx\n"
          ]
        },
        {
          "output_type": "stream",
          "name": "stderr",
          "text": [
            "<ipython-input-10-f1622221555c>:12: DeprecationWarning: The 'text' argument to find()-type methods is deprecated. Use 'string' instead.\n",
            "  location_li = job.find('i', class_='material-icons', text='location_on').find_parent('li')\n"
          ]
        }
      ]
    },
    {
      "cell_type": "code",
      "source": [
        "url3=\"https://www.timesjobs.com/candidate/job-search.html?from=submit&luceneResultSize=25&txtKeywords=java%20and%20python&postWeek=60&searchType=personalizedSearch&actualTxtKeywords=java%20and%20python&searchBy=0&rdoOperator=OR&pDate=I&sequence=4&startPage=1\"\n",
        "scrape_jobs(url3)"
      ],
      "metadata": {
        "colab": {
          "base_uri": "https://localhost:8080/"
        },
        "id": "eE7CT4-8vZzi",
        "outputId": "576e9607-4189-4515-cac0-cf217f365f00"
      },
      "execution_count": 13,
      "outputs": [
        {
          "output_type": "stream",
          "name": "stdout",
          "text": [
            "Data Added to the job_list.xlsx\n"
          ]
        },
        {
          "output_type": "stream",
          "name": "stderr",
          "text": [
            "<ipython-input-10-f1622221555c>:12: DeprecationWarning: The 'text' argument to find()-type methods is deprecated. Use 'string' instead.\n",
            "  location_li = job.find('i', class_='material-icons', text='location_on').find_parent('li')\n"
          ]
        }
      ]
    },
    {
      "cell_type": "code",
      "source": [
        "url4=\"https://www.timesjobs.com/candidate/job-search.html?from=submit&luceneResultSize=25&txtKeywords=java%20and%20python&postWeek=60&searchType=personalizedSearch&actualTxtKeywords=java%20and%20python&searchBy=0&rdoOperator=OR&pDate=I&sequence=5&startPage=1\"\n",
        "scrape_jobs(url4)"
      ],
      "metadata": {
        "colab": {
          "base_uri": "https://localhost:8080/"
        },
        "id": "uO8MlMA7wcrI",
        "outputId": "003557aa-e465-4a02-d72e-09403b66bbc8"
      },
      "execution_count": 14,
      "outputs": [
        {
          "output_type": "stream",
          "name": "stdout",
          "text": [
            "Data Added to the job_list.xlsx\n"
          ]
        },
        {
          "output_type": "stream",
          "name": "stderr",
          "text": [
            "<ipython-input-10-f1622221555c>:12: DeprecationWarning: The 'text' argument to find()-type methods is deprecated. Use 'string' instead.\n",
            "  location_li = job.find('i', class_='material-icons', text='location_on').find_parent('li')\n"
          ]
        }
      ]
    },
    {
      "cell_type": "code",
      "source": [
        "url5=\"https://www.timesjobs.com/candidate/job-search.html?from=submit&luceneResultSize=25&txtKeywords=java%20and%20python&postWeek=60&searchType=personalizedSearch&actualTxtKeywords=java%20and%20python&searchBy=0&rdoOperator=OR&pDate=I&sequence=6&startPage=1\"\n",
        "scrape_jobs(url5)"
      ],
      "metadata": {
        "colab": {
          "base_uri": "https://localhost:8080/"
        },
        "id": "tropQMsodNGA",
        "outputId": "f9f7b66c-a25a-4b05-f30e-8bf64f85cfbe"
      },
      "execution_count": 15,
      "outputs": [
        {
          "output_type": "stream",
          "name": "stdout",
          "text": [
            "Data Added to the job_list.xlsx\n"
          ]
        },
        {
          "output_type": "stream",
          "name": "stderr",
          "text": [
            "<ipython-input-10-f1622221555c>:12: DeprecationWarning: The 'text' argument to find()-type methods is deprecated. Use 'string' instead.\n",
            "  location_li = job.find('i', class_='material-icons', text='location_on').find_parent('li')\n"
          ]
        }
      ]
    },
    {
      "cell_type": "code",
      "source": [
        "url6=\"https://www.timesjobs.com/candidate/job-search.html?from=submit&luceneResultSize=25&txtKeywords=java%20and%20python&postWeek=60&searchType=personalizedSearch&actualTxtKeywords=java%20and%20python&searchBy=0&rdoOperator=OR&pDate=I&sequence=7&startPage=1\"\n",
        "scrape_jobs(url6)"
      ],
      "metadata": {
        "colab": {
          "base_uri": "https://localhost:8080/"
        },
        "id": "YBd1J31odVxP",
        "outputId": "e492167e-39d2-4ead-bfe2-fc04bf21a558"
      },
      "execution_count": 17,
      "outputs": [
        {
          "output_type": "stream",
          "name": "stdout",
          "text": [
            "Data Added to the job_list.xlsx\n"
          ]
        },
        {
          "output_type": "stream",
          "name": "stderr",
          "text": [
            "<ipython-input-10-f1622221555c>:12: DeprecationWarning: The 'text' argument to find()-type methods is deprecated. Use 'string' instead.\n",
            "  location_li = job.find('i', class_='material-icons', text='location_on').find_parent('li')\n"
          ]
        }
      ]
    },
    {
      "cell_type": "code",
      "source": [
        "url7=\"https://www.timesjobs.com/candidate/job-search.html?from=submit&luceneResultSize=25&txtKeywords=java%20and%20python&postWeek=60&searchType=personalizedSearch&actualTxtKeywords=java%20and%20python&searchBy=0&rdoOperator=OR&pDate=I&sequence=8&startPage=1\"\n",
        "scrape_jobs(url7)"
      ],
      "metadata": {
        "colab": {
          "base_uri": "https://localhost:8080/"
        },
        "id": "UFUAX-21djF0",
        "outputId": "f8b7fd7c-bc58-4054-b196-f7d14cc13b5f"
      },
      "execution_count": 18,
      "outputs": [
        {
          "output_type": "stream",
          "name": "stdout",
          "text": [
            "Data Added to the job_list.xlsx\n"
          ]
        },
        {
          "output_type": "stream",
          "name": "stderr",
          "text": [
            "<ipython-input-10-f1622221555c>:12: DeprecationWarning: The 'text' argument to find()-type methods is deprecated. Use 'string' instead.\n",
            "  location_li = job.find('i', class_='material-icons', text='location_on').find_parent('li')\n"
          ]
        }
      ]
    },
    {
      "cell_type": "code",
      "source": [
        "url8=\"https://www.timesjobs.com/candidate/job-search.html?from=submit&luceneResultSize=25&txtKeywords=java%20and%20python&postWeek=60&searchType=personalizedSearch&actualTxtKeywords=java%20and%20python&searchBy=0&rdoOperator=OR&pDate=I&sequence=9&startPage=1\"\n",
        "scrape_jobs(url8)"
      ],
      "metadata": {
        "colab": {
          "base_uri": "https://localhost:8080/"
        },
        "id": "LOYrqdJnd963",
        "outputId": "706800e1-af18-4b57-f4df-0b65468e02cc"
      },
      "execution_count": 19,
      "outputs": [
        {
          "output_type": "stream",
          "name": "stdout",
          "text": [
            "Data Added to the job_list.xlsx\n"
          ]
        },
        {
          "output_type": "stream",
          "name": "stderr",
          "text": [
            "<ipython-input-10-f1622221555c>:12: DeprecationWarning: The 'text' argument to find()-type methods is deprecated. Use 'string' instead.\n",
            "  location_li = job.find('i', class_='material-icons', text='location_on').find_parent('li')\n"
          ]
        }
      ]
    },
    {
      "cell_type": "code",
      "source": [
        "url9=\"https://www.timesjobs.com/candidate/job-search.html?from=submit&luceneResultSize=25&txtKeywords=java%20and%20python&postWeek=60&searchType=personalizedSearch&actualTxtKeywords=java%20and%20python&searchBy=0&rdoOperator=OR&pDate=I&sequence=10&startPage=1\"\n",
        "scrape_jobs(url9)"
      ],
      "metadata": {
        "colab": {
          "base_uri": "https://localhost:8080/"
        },
        "id": "_RfUc0ooeFke",
        "outputId": "fba35c08-fc7f-4b1c-89bc-26da8d985e61"
      },
      "execution_count": 20,
      "outputs": [
        {
          "output_type": "stream",
          "name": "stdout",
          "text": [
            "Data Added to the job_list.xlsx\n"
          ]
        },
        {
          "output_type": "stream",
          "name": "stderr",
          "text": [
            "<ipython-input-10-f1622221555c>:12: DeprecationWarning: The 'text' argument to find()-type methods is deprecated. Use 'string' instead.\n",
            "  location_li = job.find('i', class_='material-icons', text='location_on').find_parent('li')\n"
          ]
        }
      ]
    },
    {
      "cell_type": "code",
      "source": [
        "url10=\"https://www.timesjobs.com/candidate/job-search.html?from=submit&luceneResultSize=25&txtKeywords=java%20and%20python&postWeek=60&searchType=personalizedSearch&actualTxtKeywords=java%20and%20python&searchBy=0&rdoOperator=OR&pDate=I&sequence=11&startPage=11\"\n",
        "scrape_jobs(url10)"
      ],
      "metadata": {
        "colab": {
          "base_uri": "https://localhost:8080/"
        },
        "id": "Ho9OQ_0_eLI-",
        "outputId": "ce1ba260-bbca-4047-9f07-65e5a1891955"
      },
      "execution_count": 21,
      "outputs": [
        {
          "output_type": "stream",
          "name": "stdout",
          "text": [
            "Data Added to the job_list.xlsx\n"
          ]
        },
        {
          "output_type": "stream",
          "name": "stderr",
          "text": [
            "<ipython-input-10-f1622221555c>:12: DeprecationWarning: The 'text' argument to find()-type methods is deprecated. Use 'string' instead.\n",
            "  location_li = job.find('i', class_='material-icons', text='location_on').find_parent('li')\n"
          ]
        }
      ]
    },
    {
      "cell_type": "code",
      "source": [
        "url=\"https://www.timesjobs.com/candidate/job-search.html?from=submit&luceneResultSize=25&txtKeywords=java%20and%20python&postWeek=60&searchType=personalizedSearch&actualTxtKeywords=java%20and%20python&searchBy=0&rdoOperator=OR&pDate=I&sequence=12&startPage=11\"\n",
        "scrape_jobs(url)"
      ],
      "metadata": {
        "colab": {
          "base_uri": "https://localhost:8080/"
        },
        "id": "2yCel_uweVaW",
        "outputId": "9e277c6b-8390-435b-9406-0480ef776a66"
      },
      "execution_count": 22,
      "outputs": [
        {
          "output_type": "stream",
          "name": "stdout",
          "text": [
            "Data Added to the job_list.xlsx\n"
          ]
        },
        {
          "output_type": "stream",
          "name": "stderr",
          "text": [
            "<ipython-input-10-f1622221555c>:12: DeprecationWarning: The 'text' argument to find()-type methods is deprecated. Use 'string' instead.\n",
            "  location_li = job.find('i', class_='material-icons', text='location_on').find_parent('li')\n"
          ]
        }
      ]
    },
    {
      "cell_type": "code",
      "source": [
        "url=\"https://www.timesjobs.com/candidate/job-search.html?from=submit&luceneResultSize=25&txtKeywords=java%20and%20python&postWeek=60&searchType=personalizedSearch&actualTxtKeywords=java%20and%20python&searchBy=0&rdoOperator=OR&pDate=I&sequence=13&startPage=11\"\n",
        "scrape_jobs(url)"
      ],
      "metadata": {
        "colab": {
          "base_uri": "https://localhost:8080/"
        },
        "id": "_IaTqBjZek0n",
        "outputId": "18c6813e-4e3a-47d7-d461-5bdc583736b2"
      },
      "execution_count": 23,
      "outputs": [
        {
          "output_type": "stream",
          "name": "stdout",
          "text": [
            "Data Added to the job_list.xlsx\n"
          ]
        },
        {
          "output_type": "stream",
          "name": "stderr",
          "text": [
            "<ipython-input-10-f1622221555c>:12: DeprecationWarning: The 'text' argument to find()-type methods is deprecated. Use 'string' instead.\n",
            "  location_li = job.find('i', class_='material-icons', text='location_on').find_parent('li')\n"
          ]
        }
      ]
    },
    {
      "cell_type": "code",
      "source": [
        "url=\"https://www.timesjobs.com/candidate/job-search.html?from=submit&luceneResultSize=25&txtKeywords=java%20and%20python&postWeek=60&searchType=personalizedSearch&actualTxtKeywords=java%20and%20python&searchBy=0&rdoOperator=OR&pDate=I&sequence=14&startPage=11\"\n",
        "scrape_jobs(url)"
      ],
      "metadata": {
        "colab": {
          "base_uri": "https://localhost:8080/"
        },
        "id": "OELpgKX5erAB",
        "outputId": "44bf58ac-48f2-4e38-8157-00a0bd9d2ac6"
      },
      "execution_count": 24,
      "outputs": [
        {
          "output_type": "stream",
          "name": "stdout",
          "text": [
            "Data Added to the job_list.xlsx\n"
          ]
        },
        {
          "output_type": "stream",
          "name": "stderr",
          "text": [
            "<ipython-input-10-f1622221555c>:12: DeprecationWarning: The 'text' argument to find()-type methods is deprecated. Use 'string' instead.\n",
            "  location_li = job.find('i', class_='material-icons', text='location_on').find_parent('li')\n"
          ]
        }
      ]
    },
    {
      "cell_type": "code",
      "source": [
        "url=\"https://www.timesjobs.com/candidate/job-search.html?from=submit&luceneResultSize=25&txtKeywords=java%20and%20python&postWeek=60&searchType=personalizedSearch&actualTxtKeywords=java%20and%20python&searchBy=0&rdoOperator=OR&pDate=I&sequence=16&startPage=11\"\n",
        "scrape_jobs(url)"
      ],
      "metadata": {
        "colab": {
          "base_uri": "https://localhost:8080/"
        },
        "id": "omiHlAdJet99",
        "outputId": "9c7ca47f-02f5-4f46-c920-f9b01ee24290"
      },
      "execution_count": 25,
      "outputs": [
        {
          "output_type": "stream",
          "name": "stdout",
          "text": [
            "Data Added to the job_list.xlsx\n"
          ]
        },
        {
          "output_type": "stream",
          "name": "stderr",
          "text": [
            "<ipython-input-10-f1622221555c>:12: DeprecationWarning: The 'text' argument to find()-type methods is deprecated. Use 'string' instead.\n",
            "  location_li = job.find('i', class_='material-icons', text='location_on').find_parent('li')\n"
          ]
        }
      ]
    },
    {
      "cell_type": "code",
      "source": [
        "url=\"https://www.timesjobs.com/candidate/job-search.html?from=submit&luceneResultSize=25&txtKeywords=java%20and%20python&postWeek=60&searchType=personalizedSearch&actualTxtKeywords=java%20and%20python&searchBy=0&rdoOperator=OR&pDate=I&sequence=17&startPage=11\"\n",
        "scrape_jobs(url)"
      ],
      "metadata": {
        "colab": {
          "base_uri": "https://localhost:8080/"
        },
        "id": "FgLReA1reyYC",
        "outputId": "a14fd674-d133-4342-b82d-0466fe770952"
      },
      "execution_count": 26,
      "outputs": [
        {
          "output_type": "stream",
          "name": "stdout",
          "text": [
            "Data Added to the job_list.xlsx\n"
          ]
        },
        {
          "output_type": "stream",
          "name": "stderr",
          "text": [
            "<ipython-input-10-f1622221555c>:12: DeprecationWarning: The 'text' argument to find()-type methods is deprecated. Use 'string' instead.\n",
            "  location_li = job.find('i', class_='material-icons', text='location_on').find_parent('li')\n"
          ]
        }
      ]
    },
    {
      "cell_type": "code",
      "source": [
        "url=\"https://www.timesjobs.com/candidate/job-search.html?from=submit&luceneResultSize=25&txtKeywords=java%20and%20python&postWeek=60&searchType=personalizedSearch&actualTxtKeywords=java%20and%20python&searchBy=0&rdoOperator=OR&pDate=I&sequence=18&startPage=11\"\n",
        "scrape_jobs(url)"
      ],
      "metadata": {
        "colab": {
          "base_uri": "https://localhost:8080/"
        },
        "id": "vBBi5qdxe0uP",
        "outputId": "5f9d5410-9d46-4b6d-9763-39e0b9da1f54"
      },
      "execution_count": 27,
      "outputs": [
        {
          "output_type": "stream",
          "name": "stdout",
          "text": [
            "Data Added to the job_list.xlsx\n"
          ]
        },
        {
          "output_type": "stream",
          "name": "stderr",
          "text": [
            "<ipython-input-10-f1622221555c>:12: DeprecationWarning: The 'text' argument to find()-type methods is deprecated. Use 'string' instead.\n",
            "  location_li = job.find('i', class_='material-icons', text='location_on').find_parent('li')\n"
          ]
        }
      ]
    },
    {
      "cell_type": "code",
      "source": [
        "url=\"https://www.timesjobs.com/candidate/job-search.html?from=submit&luceneResultSize=25&txtKeywords=java%20and%20python&postWeek=60&searchType=personalizedSearch&actualTxtKeywords=java%20and%20python&searchBy=0&rdoOperator=OR&pDate=I&sequence=19&startPage=11\"\n",
        "scrape_jobs(url)"
      ],
      "metadata": {
        "colab": {
          "base_uri": "https://localhost:8080/"
        },
        "id": "0k1pfd81e3ZF",
        "outputId": "5309bc49-9318-48ae-ce83-48c1723f3e5a"
      },
      "execution_count": 28,
      "outputs": [
        {
          "output_type": "stream",
          "name": "stdout",
          "text": [
            "Data Added to the job_list.xlsx\n"
          ]
        },
        {
          "output_type": "stream",
          "name": "stderr",
          "text": [
            "<ipython-input-10-f1622221555c>:12: DeprecationWarning: The 'text' argument to find()-type methods is deprecated. Use 'string' instead.\n",
            "  location_li = job.find('i', class_='material-icons', text='location_on').find_parent('li')\n"
          ]
        }
      ]
    },
    {
      "cell_type": "code",
      "source": [],
      "metadata": {
        "id": "7yPGwrume5_2"
      },
      "execution_count": null,
      "outputs": []
    }
  ]
}